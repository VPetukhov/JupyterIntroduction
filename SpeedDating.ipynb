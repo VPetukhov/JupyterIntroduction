{
 "cells": [
  {
   "cell_type": "code",
   "execution_count": null,
   "metadata": {},
   "outputs": [],
   "source": [
    "import numpy as np\n",
    "import pandas as pd\n",
    "%matplotlib inline"
   ]
  },
  {
   "cell_type": "code",
   "execution_count": null,
   "metadata": {},
   "outputs": [],
   "source": [
    "import bokeh.plotting as bp\n",
    "import bokeh.models as bm\n",
    "from bokeh.transform import factor_cmap, Jitter\n",
    "\n",
    "bp.output_notebook()"
   ]
  },
  {
   "cell_type": "code",
   "execution_count": null,
   "metadata": {},
   "outputs": [],
   "source": [
    "DATA_PATH = 'https://github.com/tsizzle/speed_dating_experiment/raw/master/Speed_Dating_Data.csv'"
   ]
  },
  {
   "cell_type": "code",
   "execution_count": null,
   "metadata": {},
   "outputs": [],
   "source": [
    "speed_dating_data = pd.read_csv(DATA_PATH, encoding='ISO-8859-1', thousands=\",\" )"
   ]
  },
  {
   "cell_type": "code",
   "execution_count": null,
   "metadata": {},
   "outputs": [],
   "source": [
    "df_subset = speed_dating_data[['income', 'int_corr', 'age', 'age_o', 'race', 'race_o', 'goal', 'match']].copy()\n",
    "df_subset.columns = ['Income', 'InterestsCorrelation', 'Age1', 'Age2', 'Race1', 'Race2', 'Goal', 'Match']\n",
    "\n",
    "df_success = df_subset[df_subset.Match == 1]\n",
    "df_fail = df_subset[df_subset.Match == 0]\n",
    "\n",
    "df_subset['Match'] = np.where(df_subset['Match'], 'Match', 'Not match')"
   ]
  },
  {
   "cell_type": "code",
   "execution_count": null,
   "metadata": {},
   "outputs": [],
   "source": [
    "df_subset.head()"
   ]
  },
  {
   "cell_type": "code",
   "execution_count": null,
   "metadata": {},
   "outputs": [],
   "source": [
    "df_success.Income.hist(normed=True)\n",
    "df_fail.Income.hist(alpha=0.5, normed=True);\n",
    "plt.xlabel('Income'); plt.ylabel('Normed counts');"
   ]
  },
  {
   "cell_type": "code",
   "execution_count": null,
   "metadata": {},
   "outputs": [],
   "source": [
    "hover = bm.HoverTool(tooltips=[\n",
    "    (\"(x,y)\", \"($x, $y)\"),\n",
    "    (\"Match\", \"@Match\"),\n",
    "    (\"Interests correlation\", \"@InterestsCorrelation\"),\n",
    "])\n",
    "\n",
    "p = bp.figure(tools=\"pan, box_zoom, reset, save, crosshair\",\n",
    "              x_axis_label='Age of the first partner', \n",
    "              y_axis_label='Age of the second partner')\n",
    "\n",
    "p.tools.append(hover)\n",
    "p.circle('Age1', 'Age2', \n",
    "         fill_color=factor_cmap('Match', palette=('red', 'blue'), factors=list(df_subset.Match.unique())),\n",
    "         legend='Match', source=bm.ColumnDataSource(df_subset), size=7, alpha=0.2)\n",
    "\n",
    "bp.show(p)"
   ]
  },
  {
   "cell_type": "code",
   "execution_count": null,
   "metadata": {},
   "outputs": [],
   "source": [
    "np.mean(df_fail.Race1 == df_fail.Race2), np.mean(df_success.Race1 == df_success.Race2)"
   ]
  }
 ],
 "metadata": {
  "hide_input": false,
  "kernelspec": {
   "display_name": "Python 3",
   "language": "python",
   "name": "python3"
  },
  "language_info": {
   "codemirror_mode": {
    "name": "ipython",
    "version": 3
   },
   "file_extension": ".py",
   "mimetype": "text/x-python",
   "name": "python",
   "nbconvert_exporter": "python",
   "pygments_lexer": "ipython3",
   "version": "3.6.3"
  },
  "toc": {
   "nav_menu": {},
   "number_sections": true,
   "sideBar": true,
   "skip_h1_title": false,
   "toc_cell": false,
   "toc_position": {},
   "toc_section_display": "block",
   "toc_window_display": false
  },
  "varInspector": {
   "cols": {
    "lenName": 16,
    "lenType": 16,
    "lenVar": 40
   },
   "kernels_config": {
    "python": {
     "delete_cmd_postfix": "",
     "delete_cmd_prefix": "del ",
     "library": "var_list.py",
     "varRefreshCmd": "print(var_dic_list())"
    },
    "r": {
     "delete_cmd_postfix": ") ",
     "delete_cmd_prefix": "rm(",
     "library": "var_list.r",
     "varRefreshCmd": "cat(var_dic_list()) "
    }
   },
   "types_to_exclude": [
    "module",
    "function",
    "builtin_function_or_method",
    "instance",
    "_Feature"
   ],
   "window_display": false
  }
 },
 "nbformat": 4,
 "nbformat_minor": 2
}