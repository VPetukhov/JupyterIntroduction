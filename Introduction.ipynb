{
 "cells": [
  {
   "cell_type": "markdown",
   "metadata": {},
   "source": [
    "# Основы Jupyter"
   ]
  },
  {
   "cell_type": "markdown",
   "metadata": {},
   "source": [
    "## Simple python"
   ]
  },
  {
   "cell_type": "markdown",
   "metadata": {},
   "source": [
    "Все данные храняться в оперативной памяти. Однажды созданную переменную можно использовать пока она не будет явно удалена."
   ]
  },
  {
   "cell_type": "code",
   "execution_count": null,
   "metadata": {},
   "outputs": [],
   "source": [
    "a = 1"
   ]
  },
  {
   "cell_type": "code",
   "execution_count": null,
   "metadata": {},
   "outputs": [],
   "source": [
    "print(a)"
   ]
  },
  {
   "cell_type": "markdown",
   "metadata": {},
   "source": [
    "Каждая ячейка аналогична выполнению кода в глобальной области видимости."
   ]
  },
  {
   "cell_type": "code",
   "execution_count": null,
   "metadata": {},
   "outputs": [],
   "source": [
    "def mult_list(lst, n):\n",
    "    return lst * n\n",
    "\n",
    "arr = mult_list([1, 2, 3], 3)\n",
    "print(arr)"
   ]
  },
  {
   "cell_type": "markdown",
   "metadata": {},
   "source": [
    "Нам не обязательно использовать print, если мы хотим вывести только последнее значение:"
   ]
  },
  {
   "cell_type": "code",
   "execution_count": null,
   "metadata": {},
   "outputs": [],
   "source": [
    "arr"
   ]
  },
  {
   "cell_type": "markdown",
   "metadata": {},
   "source": [
    "Но разница всё же есть:"
   ]
  },
  {
   "cell_type": "code",
   "execution_count": null,
   "metadata": {},
   "outputs": [],
   "source": [
    "print(mult_list(arr, 10))"
   ]
  },
  {
   "cell_type": "code",
   "execution_count": null,
   "metadata": {},
   "outputs": [],
   "source": [
    "mult_list(arr, 10)"
   ]
  },
  {
   "cell_type": "markdown",
   "metadata": {},
   "source": [
    "Точка с запятой позволяет подавить вывод результата:"
   ]
  },
  {
   "cell_type": "code",
   "execution_count": null,
   "metadata": {},
   "outputs": [],
   "source": [
    "mult_list(arr, 10);"
   ]
  },
  {
   "cell_type": "markdown",
   "metadata": {},
   "source": [
    "## Добавляем графики (matplotlib)"
   ]
  },
  {
   "cell_type": "markdown",
   "metadata": {},
   "source": [
    "Импортируем библиотеку, настраиваем стиль и указываем, что графики стоит встраивать сразу в клетку:"
   ]
  },
  {
   "cell_type": "code",
   "execution_count": null,
   "metadata": {},
   "outputs": [],
   "source": [
    "import matplotlib.pyplot as plt\n",
    "%matplotlib inline\n",
    "\n",
    "import seaborn as sns\n",
    "sns.set(font_scale=2, style='whitegrid', rc={'figure.figsize': (10, 6), 'axes.edgecolor': '#222222'})\n",
    "\n",
    "plt.plot([(0.05 * x) ** 2 for x in range(100)])\n",
    "plt.title('Parabolic graph')\n",
    "plt.xlabel('X'); plt.ylabel('Y');"
   ]
  },
  {
   "cell_type": "markdown",
   "metadata": {},
   "source": [
    "## Markdown"
   ]
  },
  {
   "cell_type": "markdown",
   "metadata": {},
   "source": [
    "Описание кода находится непосредственно рядом с кодом, и это не простые комментарии. \n",
    "* Здесь можно делать списки\n",
    "* <div style='color:red'>**Стилизовать всё под себя.**</div>\n",
    "* Добавлять [гиперссылки](http://jupyter.org/)\n",
    "* Писать формулы в LaTeX: $\\sum_{i=1}^\\inf\\frac{1}{i^2} = \\frac{\\pi^2}{6}$\n",
    "* И даже вставлять картинки\n",
    "\n",
    "<img style=\"float: left;\" src=\"figures/power.png\">"
   ]
  },
  {
   "cell_type": "markdown",
   "metadata": {},
   "source": [
    "* А при желании и анимацию:"
   ]
  },
  {
   "cell_type": "code",
   "execution_count": null,
   "metadata": {},
   "outputs": [],
   "source": [
    "from IPython.display import Image\n",
    "Image(filename=\"figures/cat.gif\")"
   ]
  },
  {
   "cell_type": "markdown",
   "metadata": {},
   "source": [
    "### Написание книг  в Jupyter"
   ]
  },
  {
   "cell_type": "markdown",
   "metadata": {},
   "source": [
    "<a href=\"https://github.com/jakevdp/PythonDataScienceHandbook\">\n",
    "    <img style=\"float: left;\" src=\"PythonDataScienceHandbook/notebooks/figures/PDSH-cover.png\">\n",
    "</a>\n",
    "<a href=\"http://readiab.org/\">\n",
    "    <img style=\"float: right;\" src=\"figures/bioinformatics_intro.png\">\n",
    "</a>"
   ]
  },
  {
   "cell_type": "markdown",
   "metadata": {},
   "source": [
    "[Отрывок из Python Data Science Handbook](PythonDataScienceHandbook/notebooks/05.06-Linear-Regression.ipynb)"
   ]
  },
  {
   "cell_type": "markdown",
   "metadata": {},
   "source": [
    "В R подобный подход используется для документации пакетов. Это называется **vignettes**. Например, [vignette для пакета seurat по анализу scRNA-seq данных](http://satijalab.org/seurat/pbmc3k_tutorial.html)."
   ]
  },
  {
   "cell_type": "markdown",
   "metadata": {},
   "source": [
    "## Jupyter kernels"
   ]
  },
  {
   "cell_type": "markdown",
   "metadata": {},
   "source": [
    "В Jupyter можно запускать ооочень много разных языков. Для этого используются [Jupyter Kernels](https://github.com/jupyter/jupyter/wiki/Jupyter-kernels)."
   ]
  },
  {
   "cell_type": "code",
   "execution_count": null,
   "metadata": {},
   "outputs": [],
   "source": [
    "kernels_df = pd.read_csv('./jupyter_kernels.csv')\n",
    "kernels_df.head()"
   ]
  },
  {
   "cell_type": "markdown",
   "metadata": {},
   "source": [
    "[Пример](RExample.ipynb) для [IRkernel](https://github.com/IRkernel/IRkernel)."
   ]
  },
  {
   "cell_type": "markdown",
   "metadata": {},
   "source": [
    "## System calls"
   ]
  },
  {
   "cell_type": "markdown",
   "metadata": {},
   "source": [
    "После '!' можно писать любые консольные команды:"
   ]
  },
  {
   "cell_type": "code",
   "execution_count": null,
   "metadata": {},
   "outputs": [],
   "source": [
    "!ls -l ./"
   ]
  },
  {
   "cell_type": "markdown",
   "metadata": {},
   "source": [
    "И в них даже можно использовать переменные:"
   ]
  },
  {
   "cell_type": "code",
   "execution_count": null,
   "metadata": {},
   "outputs": [],
   "source": [
    "folder = 'PythonDataScienceHandbook/notebooks/'\n",
    "!ls -l ./$folder | head"
   ]
  },
  {
   "cell_type": "code",
   "execution_count": null,
   "metadata": {},
   "outputs": [],
   "source": [
    "files = !ls ./$folder\n",
    "files[1:10]"
   ]
  },
  {
   "cell_type": "markdown",
   "metadata": {},
   "source": [
    "Также есть команды для записи в файл:"
   ]
  },
  {
   "cell_type": "code",
   "execution_count": null,
   "metadata": {},
   "outputs": [],
   "source": [
    "out_file = 'test_out.txt'"
   ]
  },
  {
   "cell_type": "code",
   "execution_count": null,
   "metadata": {},
   "outputs": [],
   "source": [
    "%%file $out_file\n",
    "Line 1\n",
    "Line 2\n",
    "Line N"
   ]
  },
  {
   "cell_type": "code",
   "execution_count": null,
   "metadata": {},
   "outputs": [],
   "source": [
    "!cat $out_file"
   ]
  },
  {
   "cell_type": "code",
   "execution_count": null,
   "metadata": {},
   "outputs": [],
   "source": [
    "!rm $out_file"
   ]
  },
  {
   "cell_type": "markdown",
   "metadata": {},
   "source": [
    "## Line magics и не только"
   ]
  },
  {
   "cell_type": "markdown",
   "metadata": {},
   "source": [
    "Magic команды начинаются с одного или двух знаков \"%\". Главная из них - `%quickref`."
   ]
  },
  {
   "cell_type": "code",
   "execution_count": null,
   "metadata": {},
   "outputs": [],
   "source": [
    "%quickref"
   ]
  },
  {
   "cell_type": "markdown",
   "metadata": {},
   "source": [
    "Команды, начинающиеся с одного знака \"%\" действуют на одну строчку. Команды, начинающиеся с двух знаков - на всю ячейку (см. `%%file` выше)."
   ]
  },
  {
   "cell_type": "markdown",
   "metadata": {},
   "source": [
    "### Code profiling"
   ]
  },
  {
   "cell_type": "markdown",
   "metadata": {},
   "source": [
    "Определим несколько функций с разной производительностью:"
   ]
  },
  {
   "cell_type": "code",
   "execution_count": null,
   "metadata": {},
   "outputs": [],
   "source": [
    "def slow_function():\n",
    "    [_ for i in range(10000000)]\n",
    "\n",
    "def not_so_slow_function():\n",
    "    [_ for i in range(1000)]\n",
    "    \n",
    "def complex_slow_function():\n",
    "    slow_function()\n",
    "    [not_so_slow_function() for i in range(1000)]\n",
    "    [slow_function() for i in range(10)]"
   ]
  },
  {
   "cell_type": "markdown",
   "metadata": {},
   "source": [
    "Магические команды %time и %timeit позволяют замерять время выполнения строки, следующей за ними. %timeit отличается тем, что запускает одну и ту же команду много раз и усредняет результат."
   ]
  },
  {
   "cell_type": "code",
   "execution_count": null,
   "metadata": {},
   "outputs": [],
   "source": [
    "%time slow_function()"
   ]
  },
  {
   "cell_type": "markdown",
   "metadata": {},
   "source": [
    "Но следует быть осторожным, python имеет свойство кэшировать результаты выполнения, и поэтому первый запуск одной и той же функции может быть дольше, чем все последующие:"
   ]
  },
  {
   "cell_type": "code",
   "execution_count": null,
   "metadata": {},
   "outputs": [],
   "source": [
    "%time not_so_slow_function()"
   ]
  },
  {
   "cell_type": "code",
   "execution_count": null,
   "metadata": {},
   "outputs": [],
   "source": [
    "%timeit not_so_slow_function()"
   ]
  },
  {
   "cell_type": "markdown",
   "metadata": {},
   "source": [
    "Также следует остерегаться такого кода:"
   ]
  },
  {
   "cell_type": "code",
   "execution_count": null,
   "metadata": {},
   "outputs": [],
   "source": [
    "arr = []\n",
    "%timeit arr.append(1)\n",
    "len(arr)"
   ]
  },
  {
   "cell_type": "markdown",
   "metadata": {},
   "source": [
    "Команды для профилирования позволяют получить более детальную информацию о выполнении функции."
   ]
  },
  {
   "cell_type": "code",
   "execution_count": null,
   "metadata": {},
   "outputs": [],
   "source": [
    "%prun complex_slow_function()"
   ]
  },
  {
   "cell_type": "markdown",
   "metadata": {},
   "source": [
    "[Существуют разные виды профилировщиков, как для времени, так и для памяти](http://pynash.org/2013/03/06/timing-and-profiling/)"
   ]
  },
  {
   "cell_type": "markdown",
   "metadata": {},
   "source": [
    "### Другие полезные команды"
   ]
  },
  {
   "cell_type": "markdown",
   "metadata": {},
   "source": [
    "Посмотреть код функции:"
   ]
  },
  {
   "cell_type": "code",
   "execution_count": null,
   "metadata": {},
   "outputs": [],
   "source": [
    "%psource complex_slow_function"
   ]
  },
  {
   "cell_type": "markdown",
   "metadata": {},
   "source": [
    "Описание функции или обьекта:"
   ]
  },
  {
   "cell_type": "code",
   "execution_count": null,
   "metadata": {},
   "outputs": [],
   "source": [
    "?map"
   ]
  },
  {
   "cell_type": "code",
   "execution_count": null,
   "metadata": {},
   "outputs": [],
   "source": [
    "a = complex(10, 20)\n",
    "?a"
   ]
  },
  {
   "cell_type": "markdown",
   "metadata": {},
   "source": [
    "Вся информация о функции:"
   ]
  },
  {
   "cell_type": "code",
   "execution_count": null,
   "metadata": {},
   "outputs": [],
   "source": [
    "import numpy as np"
   ]
  },
  {
   "cell_type": "code",
   "execution_count": null,
   "metadata": {},
   "outputs": [],
   "source": [
    "??np.sum"
   ]
  },
  {
   "cell_type": "markdown",
   "metadata": {},
   "source": [
    "Захват вывода ячейки"
   ]
  },
  {
   "cell_type": "code",
   "execution_count": null,
   "metadata": {},
   "outputs": [],
   "source": [
    "%%capture a\n",
    "print(11)"
   ]
  },
  {
   "cell_type": "code",
   "execution_count": null,
   "metadata": {},
   "outputs": [],
   "source": [
    "a.show()"
   ]
  },
  {
   "cell_type": "code",
   "execution_count": null,
   "metadata": {},
   "outputs": [],
   "source": [
    "a.stdout, a.stderr"
   ]
  },
  {
   "cell_type": "markdown",
   "metadata": {},
   "source": [
    "Переменная `_` хранит результат посленей исполненной ячейки. Переменная `__` - предпоследней. Ещё есть `____` (3 шт.)"
   ]
  },
  {
   "cell_type": "code",
   "execution_count": null,
   "metadata": {},
   "outputs": [],
   "source": [
    "[1, 2, 3]"
   ]
  },
  {
   "cell_type": "code",
   "execution_count": null,
   "metadata": {},
   "outputs": [],
   "source": [
    "t = _\n",
    "print(t)"
   ]
  },
  {
   "cell_type": "markdown",
   "metadata": {},
   "source": [
    "# Scientific computing "
   ]
  },
  {
   "cell_type": "markdown",
   "metadata": {},
   "source": [
    "## Больше графиков"
   ]
  },
  {
   "cell_type": "markdown",
   "metadata": {},
   "source": [
    "### Matplotlib"
   ]
  },
  {
   "cell_type": "markdown",
   "metadata": {},
   "source": [
    "Линейный график строится с помощью функции 'plot':"
   ]
  },
  {
   "cell_type": "code",
   "execution_count": null,
   "metadata": {},
   "outputs": [],
   "source": [
    "x_vals = list(range(100))\n",
    "y_vals = [(0.05 * x) ** 2 for x in x_vals]\n",
    "plt.plot(y_vals)\n",
    "plt.title('Parabolic graph')\n",
    "plt.xlabel('X'); plt.ylabel('Y');"
   ]
  },
  {
   "cell_type": "markdown",
   "metadata": {},
   "source": [
    "Фнукция scatter даёт нам позволяет нам рисовать точками:"
   ]
  },
  {
   "cell_type": "code",
   "execution_count": null,
   "metadata": {},
   "outputs": [],
   "source": [
    "plt.scatter(x_vals[::5], y_vals[::5])\n",
    "plt.title('Parabolic graph')\n",
    "plt.xlabel('X'); plt.ylabel('Y')\n",
    "plt.xlim(min(x_vals) - 1, max(x_vals) + 30); plt.ylim(min(y_vals) - 1, max(y_vals) + 10);"
   ]
  },
  {
   "cell_type": "markdown",
   "metadata": {},
   "source": [
    "В терминах matplotlib, каждый график (plot) состоит из холста (figure), разделённого на axes (оси?). Чтобы отобразить несколько подграфиков на одном холсте используется функция subplots().  \n",
    "Важно заметить, что у класса AxesSubplot вместо методов title, xlabel и т.д. используются методы set_title, set_title, ..."
   ]
  },
  {
   "cell_type": "code",
   "execution_count": null,
   "metadata": {},
   "outputs": [],
   "source": [
    "fig, axes = plt.subplots(2, 2, figsize=(15, 8))\n",
    "axes[0][0].plot(y_vals)\n",
    "axes[0][1].hist(y_vals)\n",
    "axes[1][0].scatter(x_vals[::10], y_vals[::10])\n",
    "axes[1][1].hist(y_vals, bins=20);\n",
    "for i, ax in enumerate(np.concatenate(axes)):\n",
    "    ax.set_title('Plot %d' % i)\n",
    "    \n",
    "plt.tight_layout();"
   ]
  },
  {
   "cell_type": "markdown",
   "metadata": {},
   "source": [
    "Изобразим всё тоже самое на отдном графике:"
   ]
  },
  {
   "cell_type": "code",
   "execution_count": null,
   "metadata": {},
   "outputs": [],
   "source": [
    "plt.hist(y_vals, bins=10, label='10 bins', alpha=0.7)\n",
    "plt.hist(y_vals, bins=20, label='20 bins', alpha=0.7)\n",
    "plt.legend(loc='upper right');"
   ]
  },
  {
   "cell_type": "markdown",
   "metadata": {},
   "source": [
    "### Statistical plots (seaborn)"
   ]
  },
  {
   "cell_type": "code",
   "execution_count": null,
   "metadata": {},
   "outputs": [],
   "source": [
    "tips = sns.load_dataset(\"tips\")\n",
    "sns.lmplot(x=\"total_bill\", y=\"tip\", hue=\"smoker\", data=tips, size=5);"
   ]
  },
  {
   "cell_type": "code",
   "execution_count": null,
   "metadata": {},
   "outputs": [],
   "source": [
    "axes = plt.subplots(ncols=2, figsize=(10, 5))[1]\n",
    "\n",
    "sns.violinplot(x='smoker', y='tip', data=tips, ax=axes[0])\n",
    "sns.swarmplot(x='smoker', y='tip', data=tips, ax=axes[1])\n",
    "\n",
    "axes[0].set_title('Violin plot')\n",
    "axes[1].set_title('Swarm plot')\n",
    "\n",
    "plt.tight_layout()"
   ]
  },
  {
   "cell_type": "markdown",
   "metadata": {},
   "source": [
    "На [сайте пакета](https://seaborn.pydata.org/examples/index.html) есть множество красивых примеров."
   ]
  },
  {
   "cell_type": "markdown",
   "metadata": {},
   "source": [
    "### Interactive plots (bokeh)"
   ]
  },
  {
   "cell_type": "code",
   "execution_count": null,
   "metadata": {},
   "outputs": [],
   "source": [
    "import bokeh.plotting as bp\n",
    "import bokeh.models as bm\n",
    "from bokeh.palettes import Spectral6\n",
    "from bokeh.transform import factor_cmap\n",
    "\n",
    "bp.output_notebook()"
   ]
  },
  {
   "cell_type": "code",
   "execution_count": null,
   "metadata": {},
   "outputs": [],
   "source": [
    "hover = bm.HoverTool(tooltips=[\n",
    "    (\"(x,y)\", \"($x, $y)\"),\n",
    "    (\"Smoker\", \"@smoker\"),\n",
    "    (\"Time\", \"@time\"),\n",
    "    (\"Sex\", \"@sex\")\n",
    "])\n",
    "\n",
    "p = bp.figure(tools=\"pan, box_zoom, reset, save, crosshair\",\n",
    "             x_axis_label='Tip', y_axis_label='Total bill')\n",
    "\n",
    "p.tools.append(hover)\n",
    "p.circle('tip', 'total_bill', \n",
    "         fill_color=factor_cmap('smoker', palette=Spectral6, factors=list(tips.smoker.unique())),\n",
    "         legend='smoker', source=bm.ColumnDataSource(tips), size=10)\n",
    "\n",
    "bp.show(p)"
   ]
  },
  {
   "cell_type": "markdown",
   "metadata": {},
   "source": [
    "## NumPy - математика в Python"
   ]
  },
  {
   "cell_type": "markdown",
   "metadata": {},
   "source": [
    "### Массивы"
   ]
  },
  {
   "cell_type": "code",
   "execution_count": null,
   "metadata": {},
   "outputs": [],
   "source": [
    "import numpy as np"
   ]
  },
  {
   "cell_type": "markdown",
   "metadata": {},
   "source": [
    "Для массивов numpy переопределены все операции, включая вывод с помощью `print`"
   ]
  },
  {
   "cell_type": "code",
   "execution_count": null,
   "metadata": {},
   "outputs": [],
   "source": [
    "np_arr = np.array([1, 2, 3, 4, 5])\n",
    "print(np_arr * 2)\n",
    "print(np_arr * (np_arr + 1))\n",
    "print(np_arr >= 3)"
   ]
  },
  {
   "cell_type": "markdown",
   "metadata": {},
   "source": [
    "numpy имеет свои аналоги стандартных функций python, которые стоит применять при работе с numpy массивами  "
   ]
  },
  {
   "cell_type": "code",
   "execution_count": null,
   "metadata": {},
   "outputs": [],
   "source": [
    "arr = [1, 2, 3] * 100000\n",
    "np_arr = np.array(arr)\n",
    "\n",
    "%time sum(np_arr)\n",
    "%time all(np_arr > 0)\n",
    "\n",
    "%time np.sum(np_arr)\n",
    "%time _=np.all(np_arr > 0)"
   ]
  },
  {
   "cell_type": "markdown",
   "metadata": {},
   "source": [
    "Однако они не гарантируют скорости на стандартных структурах данных:"
   ]
  },
  {
   "cell_type": "code",
   "execution_count": null,
   "metadata": {},
   "outputs": [],
   "source": [
    "%time sum(arr)\n",
    "%time _=np.sum(arr)"
   ]
  },
  {
   "cell_type": "markdown",
   "metadata": {},
   "source": [
    "Полезная функция `np.arange`. В отличие от range: а) возвращает `np.array` (не итератор!), б) разрешает дробный шаг"
   ]
  },
  {
   "cell_type": "code",
   "execution_count": null,
   "metadata": {},
   "outputs": [],
   "source": [
    "np.arange(1, 3, 0.5)"
   ]
  },
  {
   "cell_type": "markdown",
   "metadata": {},
   "source": [
    "### Случайные числа"
   ]
  },
  {
   "cell_type": "markdown",
   "metadata": {},
   "source": [
    "Генерируем нормальное распределение:"
   ]
  },
  {
   "cell_type": "code",
   "execution_count": null,
   "metadata": {},
   "outputs": [],
   "source": [
    "r_arr = np.random.normal(0, 1, 100)\n",
    "np.mean(r_arr), np.std(r_arr)"
   ]
  },
  {
   "cell_type": "markdown",
   "metadata": {},
   "source": [
    "Построим распределение среднего из 1000 нормальных распределений (`axis=0` - по строкам, `axis=1` - по столбцам)"
   ]
  },
  {
   "cell_type": "code",
   "execution_count": null,
   "metadata": {},
   "outputs": [],
   "source": [
    "r_arr = np.random.normal(0, 1, (100, 1000))\n",
    "means = np.mean(r_arr, axis=0)\n",
    "plt.hist(means, bins=20, alpha=0.8, normed=True)\n",
    "sns.kdeplot(means, color='red')\n",
    "plt.title('Distribution of means\\nStdErr={:.3f}'.format(np.std(means)))\n",
    "plt.xlabel('Mean'); plt.ylabel('Density');"
   ]
  },
  {
   "cell_type": "markdown",
   "metadata": {},
   "source": [
    "Также с помощью класса random можно генерировать выборку из имеющегося массива:"
   ]
  },
  {
   "cell_type": "code",
   "execution_count": null,
   "metadata": {},
   "outputs": [],
   "source": [
    "arr = list(range(10))\n",
    "np.random.choice(arr, 5, )"
   ]
  },
  {
   "cell_type": "markdown",
   "metadata": {},
   "source": [
    "### Индексирование массивов"
   ]
  },
  {
   "cell_type": "markdown",
   "metadata": {},
   "source": [
    "numpy.ndarray имеет продвинутую систему индексирования. Индексом может служить число, массив чисел, либо `np.ndarray` типа bool соответствующей размерности"
   ]
  },
  {
   "cell_type": "code",
   "execution_count": null,
   "metadata": {},
   "outputs": [],
   "source": [
    "arr = np.random.uniform(size=10)\n",
    "arr[1:5]"
   ]
  },
  {
   "cell_type": "code",
   "execution_count": null,
   "metadata": {},
   "outputs": [],
   "source": [
    "arr[[1, -2, 6, 1]]"
   ]
  },
  {
   "cell_type": "code",
   "execution_count": null,
   "metadata": {},
   "outputs": [],
   "source": [
    "arr[np.array([True, False, False, False, False, True, False, False, False, True])]"
   ]
  },
  {
   "cell_type": "markdown",
   "metadata": {},
   "source": [
    "Больше реализма"
   ]
  },
  {
   "cell_type": "code",
   "execution_count": null,
   "metadata": {},
   "outputs": [],
   "source": [
    "arr[arr < 0.5]"
   ]
  },
  {
   "cell_type": "code",
   "execution_count": null,
   "metadata": {},
   "outputs": [],
   "source": [
    "arr[(arr < 0.5) & (arr > 0.4)]"
   ]
  },
  {
   "cell_type": "markdown",
   "metadata": {},
   "source": [
    "Каждый срез точно также работает на присваивание:"
   ]
  },
  {
   "cell_type": "code",
   "execution_count": null,
   "metadata": {},
   "outputs": [],
   "source": [
    "arr[1:7] = -1\n",
    "arr"
   ]
  },
  {
   "cell_type": "markdown",
   "metadata": {},
   "source": [
    "### Матрицы"
   ]
  },
  {
   "cell_type": "markdown",
   "metadata": {},
   "source": [
    "Будьте осторожны, перемножение двумерных массивов происходит поэлементно."
   ]
  },
  {
   "cell_type": "code",
   "execution_count": null,
   "metadata": {},
   "outputs": [],
   "source": [
    "e = np.eye(5, dtype=int)\n",
    "arr = np.full((5, 5), 10, dtype=int)\n",
    "print('E:\\n{}\\nArray:\\n{}\\nProduct:\\n{}'.format(e, arr, e*arr))"
   ]
  },
  {
   "cell_type": "markdown",
   "metadata": {},
   "source": [
    "Для матричного умножения следует использовать функцию `dot`:"
   ]
  },
  {
   "cell_type": "code",
   "execution_count": null,
   "metadata": {},
   "outputs": [],
   "source": [
    "e.dot(arr)"
   ]
  },
  {
   "cell_type": "markdown",
   "metadata": {},
   "source": [
    "Однако, существует специальный класс `np.matrix`, в котором все операции переопределены в соответствии с матричными вычислениями"
   ]
  },
  {
   "cell_type": "code",
   "execution_count": null,
   "metadata": {},
   "outputs": [],
   "source": [
    "m_e = np.matrix(e)\n",
    "m_arr = np.matrix(arr)\n",
    "m_e * m_arr"
   ]
  },
  {
   "cell_type": "markdown",
   "metadata": {},
   "source": [
    "Транспонирование как матрицы, так и массива осуществляется с помощью поля `T`:"
   ]
  },
  {
   "cell_type": "code",
   "execution_count": null,
   "metadata": {},
   "outputs": [],
   "source": [
    "arr = e + [1, 2, 3, 4, 5]\n",
    "print(arr)\n",
    "print()\n",
    "print(arr.T)"
   ]
  },
  {
   "cell_type": "markdown",
   "metadata": {},
   "source": [
    "## Pandas - анализ данных в Python"
   ]
  },
  {
   "cell_type": "markdown",
   "metadata": {},
   "source": [
    "Как правило, вы работаете не просто с матрицами, но ваши данные имеют за собой какую-то природу, которую вы хотите с ними связать."
   ]
  },
  {
   "cell_type": "code",
   "execution_count": null,
   "metadata": {},
   "outputs": [],
   "source": [
    "import pandas as pd\n",
    "from pandas import Series, DataFrame"
   ]
  },
  {
   "cell_type": "markdown",
   "metadata": {},
   "source": [
    "### Series"
   ]
  },
  {
   "cell_type": "markdown",
   "metadata": {},
   "source": [
    "Pandas предоставляет класс `Series`, позволяющий совместить функциональность класса `dict` из python и одномерного массива numpy:"
   ]
  },
  {
   "cell_type": "code",
   "execution_count": null,
   "metadata": {},
   "outputs": [],
   "source": [
    "mouse_organs_weights = Series({'Liver': 10.5, 'Brain': 7.4, 'Legs': 3.1, 'Tail': 3.5})\n",
    "\n",
    "print(mouse_organs_weights, '\\n')\n",
    "print('Brain: ', mouse_organs_weights['Brain'], '\\n')\n",
    "print(mouse_organs_weights.index)"
   ]
  },
  {
   "cell_type": "markdown",
   "metadata": {},
   "source": [
    "Отсортируем:"
   ]
  },
  {
   "cell_type": "code",
   "execution_count": null,
   "metadata": {},
   "outputs": [],
   "source": [
    "mouse_organs_weights.sort_values(inplace=True)\n",
    "\n",
    "print(mouse_organs_weights, '\\n')\n",
    "print(mouse_organs_weights.index)"
   ]
  },
  {
   "cell_type": "code",
   "execution_count": null,
   "metadata": {},
   "outputs": [],
   "source": [
    "mouse_organs_weights.plot(kind='bar', color='#0000AA', alpha=0.7)\n",
    "plt.ylabel('Organ weights'); plt.xlabel('Organs'); plt.title('Mouse');"
   ]
  },
  {
   "cell_type": "markdown",
   "metadata": {},
   "source": [
    "У нас появилась вторая мышь!"
   ]
  },
  {
   "cell_type": "code",
   "execution_count": null,
   "metadata": {},
   "outputs": [],
   "source": [
    "mouse_organs_weights2 = Series((8, 11.4, 2.1, 2.5), ('Liver', 'Brain', 'Legs', 'Tail'))\n",
    "\n",
    "print(mouse_organs_weights2, '\\n')\n",
    "print(mouse_organs_weights2.index)"
   ]
  },
  {
   "cell_type": "markdown",
   "metadata": {},
   "source": [
    "Не смотря на то, что эти два массива упорядочени по разному, во всех совместных операциях они будут взаимодействовать именно по текстовому индексу, а не по числовому:"
   ]
  },
  {
   "cell_type": "code",
   "execution_count": null,
   "metadata": {},
   "outputs": [],
   "source": [
    "mouse_organs_weights - mouse_organs_weights2"
   ]
  },
  {
   "cell_type": "code",
   "execution_count": null,
   "metadata": {},
   "outputs": [],
   "source": [
    "mouse_organs_weights * mouse_organs_weights2"
   ]
  },
  {
   "cell_type": "markdown",
   "metadata": {},
   "source": [
    "Однако для корректного отображения графиков нам надо их переиндексировать:"
   ]
  },
  {
   "cell_type": "code",
   "execution_count": null,
   "metadata": {},
   "outputs": [],
   "source": [
    "mouse_organs_weights.plot(label='Mouse 1')\n",
    "mouse_organs_weights2[mouse_organs_weights.index].plot(label='Mouse 2')\n",
    "(mouse_organs_weights - mouse_organs_weights2)[mouse_organs_weights.index].abs().plot(label='Absolute difference')\n",
    "\n",
    "plt.ylim(0, max(mouse_organs_weights.max(), mouse_organs_weights2.max()) + 1)\n",
    "plt.ylabel('Organ weight'); plt.xlabel('Organs'); plt.title('Mouse')\n",
    "plt.legend(loc='upper left')"
   ]
  },
  {
   "cell_type": "markdown",
   "metadata": {},
   "source": [
    "### DataFrame"
   ]
  },
  {
   "cell_type": "markdown",
   "metadata": {},
   "source": [
    "У нас появилось очень много мышей!"
   ]
  },
  {
   "cell_type": "code",
   "execution_count": null,
   "metadata": {},
   "outputs": [],
   "source": [
    "mice_organs_weights = [Series(\n",
    "    (np.random.uniform(5, 12), np.random.uniform(3, 15), \n",
    "     np.random.uniform(1.5, 3), np.random.uniform(2, 3.5)), \n",
    "    ('Liver', 'Brain', 'Legs', 'Tail')) for _ in range(40)]\n",
    "\n",
    "mice_organs_weights[:3]"
   ]
  },
  {
   "cell_type": "markdown",
   "metadata": {},
   "source": [
    "Для хранения однотипных данных стоит использовать `DataFrame`:"
   ]
  },
  {
   "cell_type": "code",
   "execution_count": null,
   "metadata": {},
   "outputs": [],
   "source": [
    "mice_df = DataFrame(mice_organs_weights)\n",
    "mice_df.head()"
   ]
  },
  {
   "cell_type": "markdown",
   "metadata": {},
   "source": [
    "В отличие от numpy, расчёт статистических показателей по-умолчанию выполняется по столбцам:"
   ]
  },
  {
   "cell_type": "code",
   "execution_count": null,
   "metadata": {},
   "outputs": [],
   "source": [
    "print(mice_df.mean())\n",
    "print(mice_df.std())"
   ]
  },
  {
   "cell_type": "markdown",
   "metadata": {},
   "source": [
    "Зададим нашим мышам более говорящие имена:"
   ]
  },
  {
   "cell_type": "code",
   "execution_count": null,
   "metadata": {},
   "outputs": [],
   "source": [
    "mice_df.index = ['Mouse {}'.format(d) for d in mice_df.index]"
   ]
  },
  {
   "cell_type": "code",
   "execution_count": null,
   "metadata": {},
   "outputs": [],
   "source": [
    "mice_df.head()"
   ]
  },
  {
   "cell_type": "markdown",
   "metadata": {},
   "source": [
    "Мы можем производить срезы `DataFrame`, аналогично `np.array`:"
   ]
  },
  {
   "cell_type": "code",
   "execution_count": null,
   "metadata": {},
   "outputs": [],
   "source": [
    "mice_df[['Liver', 'Brain']].head()"
   ]
  },
  {
   "cell_type": "markdown",
   "metadata": {},
   "source": [
    "Для обращения по индексу стоит использовать `.iloc` или `.loc`:"
   ]
  },
  {
   "cell_type": "code",
   "execution_count": null,
   "metadata": {},
   "outputs": [],
   "source": [
    "mice_df.loc[['Mouse 1', 'Mouse 10']]"
   ]
  },
  {
   "cell_type": "code",
   "execution_count": null,
   "metadata": {},
   "outputs": [],
   "source": [
    "mice_df.iloc[[1, 10]]"
   ]
  },
  {
   "cell_type": "code",
   "execution_count": null,
   "metadata": {},
   "outputs": [],
   "source": [
    "mice_df.loc[['Mouse 1', 'Mouse 10'], ['Legs', 'Tail', 'Tail']]"
   ]
  },
  {
   "cell_type": "markdown",
   "metadata": {},
   "source": [
    "В случае обращения к одному столбцу, `DataFrame` поддерживает доступ через '.':"
   ]
  },
  {
   "cell_type": "code",
   "execution_count": null,
   "metadata": {},
   "outputs": [],
   "source": [
    "mice_df.Legs[:3]"
   ]
  },
  {
   "cell_type": "markdown",
   "metadata": {},
   "source": [
    "### Пропущенные данные"
   ]
  },
  {
   "cell_type": "markdown",
   "metadata": {},
   "source": [
    "Одна из целей создания pandas - адекватная работа с пропущенными значениями.  \n",
    "Пусть у нас некоторые данные о мышах неизвестны."
   ]
  },
  {
   "cell_type": "code",
   "execution_count": null,
   "metadata": {},
   "outputs": [],
   "source": [
    "mice_missed_df = mice_df[:5].copy()"
   ]
  },
  {
   "cell_type": "code",
   "execution_count": null,
   "metadata": {},
   "outputs": [],
   "source": [
    "mice_missed_df.iloc[[1, 3], 1] = np.nan\n",
    "mice_missed_df.iloc[2, 2] = np.nan\n",
    "mice_missed_df.iloc[4, 3] = np.nan"
   ]
  },
  {
   "cell_type": "code",
   "execution_count": null,
   "metadata": {},
   "outputs": [],
   "source": [
    "mice_missed_df"
   ]
  },
  {
   "cell_type": "code",
   "execution_count": null,
   "metadata": {},
   "outputs": [],
   "source": [
    "print(mice_missed_df.sum())\n",
    "print()\n",
    "print(mice_missed_df.sum(skipna=False))"
   ]
  },
  {
   "cell_type": "markdown",
   "metadata": {},
   "source": [
    "### Функциональный стиль"
   ]
  },
  {
   "cell_type": "markdown",
   "metadata": {},
   "source": [
    "Часто нам требуется применить функцию к каждому элементу массива. У нас есть свой `map` для индесированных массивов (`Series` и `DataFrame`):"
   ]
  },
  {
   "cell_type": "code",
   "execution_count": null,
   "metadata": {},
   "outputs": [],
   "source": [
    "print(mouse_organs_weights.map(np.exp))\n",
    "print()\n",
    "print(mouse_organs_weights.map(lambda x: x ** 2))"
   ]
  },
  {
   "cell_type": "markdown",
   "metadata": {},
   "source": [
    "Также есть функция `apply`, которая в отличие от `map` пытается собрать результат в какую-нибудь более сложную структуру, например в DataFrame."
   ]
  },
  {
   "cell_type": "code",
   "execution_count": null,
   "metadata": {},
   "outputs": [],
   "source": [
    "mouse_organs_weights.apply(lambda v: Series([v, 2*v]))"
   ]
  },
  {
   "cell_type": "code",
   "execution_count": null,
   "metadata": {},
   "outputs": [],
   "source": [
    "mice_df.apply(lambda r: Series([r[1], r[2] + r[3]]), axis=1).head()"
   ]
  },
  {
   "cell_type": "markdown",
   "metadata": {},
   "source": [
    "У DataFrame есть только функция `apply`. Здесь она принимает аргумент `axis`, который говорит, стоит ли нам применять функцию по строкам, или по столбцам"
   ]
  },
  {
   "cell_type": "code",
   "execution_count": null,
   "metadata": {},
   "outputs": [],
   "source": [
    "(mice_df.apply(np.sum, 1) == mice_df.sum(axis=1)).all()"
   ]
  },
  {
   "cell_type": "markdown",
   "metadata": {},
   "source": [
    "Этот же способ можно использовать для создания сложных булевых индексов:"
   ]
  },
  {
   "cell_type": "code",
   "execution_count": null,
   "metadata": {},
   "outputs": [],
   "source": [
    "str_df = DataFrame([['TTAGGC', 'TTACCC'], ['TTCGGC', 'TTCCGC'], ['GGACGGC', 'TGGC'], ['GGG', 'CGC']], \n",
    "                   columns=['Gene 1', 'Gene 2'])\n",
    "str_df.index = list(map('Human {}'.format, range(str_df.shape[0])))\n",
    "str_df"
   ]
  },
  {
   "cell_type": "code",
   "execution_count": null,
   "metadata": {},
   "outputs": [],
   "source": [
    "index = str_df.apply(lambda genes: genes[0][0] == 'T' or genes[1][0] == 'C', axis=1)\n",
    "index"
   ]
  },
  {
   "cell_type": "code",
   "execution_count": null,
   "metadata": {},
   "outputs": [],
   "source": [
    "str_df[index]"
   ]
  },
  {
   "cell_type": "markdown",
   "metadata": {},
   "source": [
    "# Advanced Jupyter"
   ]
  },
  {
   "cell_type": "markdown",
   "metadata": {},
   "source": [
    "## Debug in Jupyter"
   ]
  },
  {
   "cell_type": "code",
   "execution_count": null,
   "metadata": {},
   "outputs": [],
   "source": [
    "def recursive_error(rec_depth = 1):\n",
    "    if rec_depth == 0:\n",
    "        raise Exception(\"NOOOOOO\")\n",
    "    \n",
    "    recursive_error(rec_depth - 1)"
   ]
  },
  {
   "cell_type": "code",
   "execution_count": null,
   "metadata": {},
   "outputs": [],
   "source": [
    "recursive_error()"
   ]
  },
  {
   "cell_type": "code",
   "execution_count": null,
   "metadata": {},
   "outputs": [],
   "source": [
    "%debug"
   ]
  },
  {
   "cell_type": "code",
   "execution_count": null,
   "metadata": {},
   "outputs": [],
   "source": [
    "%debug recursive_error(1)"
   ]
  },
  {
   "cell_type": "code",
   "execution_count": null,
   "metadata": {},
   "outputs": [],
   "source": [
    "from IPython.core.debugger import set_trace\n",
    "\n",
    "def longer_function():\n",
    "    va = 10\n",
    "    va += 1\n",
    "    \n",
    "    vb = va\n",
    "    vc = 0\n",
    "#     set_trace()\n",
    "    print(vb / vc)\n",
    "    \n",
    "    return vc + 1"
   ]
  },
  {
   "cell_type": "code",
   "execution_count": null,
   "metadata": {},
   "outputs": [],
   "source": [
    "longer_function()"
   ]
  },
  {
   "cell_type": "markdown",
   "metadata": {},
   "source": [
    "## Интеграция с другими языками"
   ]
  },
  {
   "cell_type": "code",
   "execution_count": null,
   "metadata": {},
   "outputs": [],
   "source": [
    "%%bash\n",
    "echo 123\n",
    "ls -la ./Introduction.ipynb"
   ]
  },
  {
   "cell_type": "code",
   "execution_count": null,
   "metadata": {},
   "outputs": [],
   "source": [
    "%load_ext rpy2.ipython"
   ]
  },
  {
   "cell_type": "code",
   "execution_count": null,
   "metadata": {},
   "outputs": [],
   "source": [
    "arr_size = 1000"
   ]
  },
  {
   "cell_type": "code",
   "execution_count": null,
   "metadata": {},
   "outputs": [],
   "source": [
    "%%R -i arr_size -o df\n",
    "\n",
    "library(ggplot2)\n",
    "\n",
    "df <- data.frame(x=rnorm(arr_size), y=rnorm(arr_size))\n",
    "theme_set(theme_bw())\n",
    "(gg <- ggplot(df) + geom_point(aes(x=x, y=y)))"
   ]
  },
  {
   "cell_type": "code",
   "execution_count": null,
   "metadata": {},
   "outputs": [],
   "source": [
    "df.head()"
   ]
  },
  {
   "cell_type": "markdown",
   "metadata": {},
   "source": [
    "Line magics для соответствующих языков:\n",
    "* `R`\n",
    "* `bash`\n",
    "* `javascript` или `js`\n",
    "* `latex`\n",
    "* `markdown`\n",
    "* `perl`\n",
    "* `python`\n",
    "* `python2`\n",
    "* `python3`\n",
    "* `ruby`\n",
    "* `sh`"
   ]
  },
  {
   "cell_type": "markdown",
   "metadata": {},
   "source": [
    "## Git integration"
   ]
  },
  {
   "cell_type": "markdown",
   "metadata": {},
   "source": [
    "Обычный файл .ipynb выглядит достаточно страшно:"
   ]
  },
  {
   "cell_type": "code",
   "execution_count": null,
   "metadata": {},
   "outputs": [],
   "source": [
    "!less ./Introduction.ipynb | head -n 50"
   ]
  },
  {
   "cell_type": "markdown",
   "metadata": {},
   "source": [
    "Для того, чтобы подружить вот это с git есть 2 выхода:\n",
    "1. Удалять всю информацию перед коммитом ([описание](https://gist.github.com/pbugnion/ea2797393033b54674af)).\n",
    "2. Использовать [ipymd](https://github.com/rossant/ipymd). [Пример](IpymdNotebook.md)."
   ]
  },
  {
   "cell_type": "markdown",
   "metadata": {},
   "source": [
    "## Jupyter configuration"
   ]
  },
  {
   "cell_type": "markdown",
   "metadata": {},
   "source": [
    "[Jupyter notebook extensions](https://github.com/ipython-contrib/jupyter_contrib_nbextensions):\n",
    "![Jupyter notebook extensions](figures/nb_extensions.png)"
   ]
  },
  {
   "cell_type": "markdown",
   "metadata": {},
   "source": [
    "Default imports and functions:"
   ]
  },
  {
   "cell_type": "code",
   "execution_count": null,
   "metadata": {},
   "outputs": [],
   "source": [
    "profile_dir = !ipython locate profile default\n",
    "scripts_dir = profile_dir[0] + '/startup/'\n",
    "print(scripts_dir)\n",
    "!ls -la $scripts_dir"
   ]
  },
  {
   "cell_type": "code",
   "execution_count": null,
   "metadata": {},
   "outputs": [],
   "source": [
    "!cat $scripts_dir/00-imports.py"
   ]
  },
  {
   "cell_type": "markdown",
   "metadata": {},
   "source": [
    "Custom CSS styles:"
   ]
  },
  {
   "cell_type": "code",
   "execution_count": null,
   "metadata": {},
   "outputs": [],
   "source": [
    "config_dir = !jupyter --config-dir\n",
    "css_path = config_dir[0] + '/custom/custom.css'\n",
    "css_path"
   ]
  },
  {
   "cell_type": "code",
   "execution_count": null,
   "metadata": {},
   "outputs": [],
   "source": [
    "!cat $css_path"
   ]
  },
  {
   "cell_type": "markdown",
   "metadata": {},
   "source": [
    "[Matplotlib configuration](https://matplotlib.org/users/customizing.html):"
   ]
  },
  {
   "cell_type": "code",
   "execution_count": null,
   "metadata": {},
   "outputs": [],
   "source": [
    "import matplotlib\n",
    "matplotlibrc_file = matplotlib.matplotlib_fname()\n",
    "matplotlibrc_file"
   ]
  },
  {
   "cell_type": "code",
   "execution_count": null,
   "metadata": {},
   "outputs": [],
   "source": [
    "!cat $matplotlibrc_file | egrep \"#[a-z]\" | head -n 30"
   ]
  },
  {
   "cell_type": "markdown",
   "metadata": {},
   "source": [
    "##  Parallel execution"
   ]
  },
  {
   "cell_type": "markdown",
   "metadata": {},
   "source": [
    "### Background scripts"
   ]
  },
  {
   "cell_type": "code",
   "execution_count": null,
   "metadata": {},
   "outputs": [],
   "source": [
    "%%python --bg --out p_out\n",
    "import time\n",
    "\n",
    "for i in range(10):\n",
    "    time.sleep(1)\n",
    "    print(i)"
   ]
  },
  {
   "cell_type": "markdown",
   "metadata": {},
   "source": [
    "Функция read будет висеть до окончания работы скрипта:"
   ]
  },
  {
   "cell_type": "code",
   "execution_count": null,
   "metadata": {},
   "outputs": [],
   "source": [
    "p_out = p_out.read()\n",
    "print(p_out.decode())"
   ]
  },
  {
   "cell_type": "markdown",
   "metadata": {},
   "source": [
    "Область скрипт выполняется в отдельном потоке и имеет свою область видимости"
   ]
  },
  {
   "cell_type": "code",
   "execution_count": null,
   "metadata": {},
   "outputs": [],
   "source": [
    "a = 1000"
   ]
  },
  {
   "cell_type": "code",
   "execution_count": null,
   "metadata": {},
   "outputs": [],
   "source": [
    "%%python --bg --out p_out --err p_err\n",
    "\n",
    "for i in range(100):\n",
    "    print(a)"
   ]
  },
  {
   "cell_type": "code",
   "execution_count": null,
   "metadata": {},
   "outputs": [],
   "source": [
    "p_out, p_err = p_out.read(), p_err.read()"
   ]
  },
  {
   "cell_type": "code",
   "execution_count": null,
   "metadata": {},
   "outputs": [],
   "source": [
    "print(p_out.decode())\n",
    "print(p_err.decode())"
   ]
  },
  {
   "cell_type": "markdown",
   "metadata": {},
   "source": [
    "### Background jobs"
   ]
  },
  {
   "cell_type": "code",
   "execution_count": null,
   "metadata": {},
   "outputs": [],
   "source": [
    "from IPython.lib import backgroundjobs as bg\n",
    "\n",
    "import sys\n",
    "import time\n",
    "\n",
    "def sleepfunc(interval=2, *a, **kw):\n",
    "    time.sleep(interval)\n",
    "    return dict(interval=interval, args=a, kwargs=kw)\n",
    "\n",
    "def diefunc(interval=2, *a, **kw):\n",
    "    time.sleep(interval)\n",
    "    raise Exception(\"Dead job with interval {}\".format(interval))\n",
    "\n",
    "def printfunc(interval=1, reps=5):\n",
    "    for n in range(reps):\n",
    "        time.sleep(interval)\n",
    "        print('In the background... {}'.format(n))\n",
    "        sys.stdout.flush()\n",
    "    print('All done!')\n",
    "    sys.stdout.flush()"
   ]
  },
  {
   "cell_type": "code",
   "execution_count": null,
   "metadata": {},
   "outputs": [],
   "source": [
    "jobs = bg.BackgroundJobManager()\n",
    "\n",
    "# Start a few jobs, the first one will have ID # 0\n",
    "jobs.new(sleepfunc, 4)\n",
    "jobs.new(sleepfunc, kw={'reps':2})\n",
    "jobs.new('printfunc(1,3)')"
   ]
  },
  {
   "cell_type": "code",
   "execution_count": null,
   "metadata": {},
   "outputs": [],
   "source": [
    "jobs.status()"
   ]
  },
  {
   "cell_type": "code",
   "execution_count": null,
   "metadata": {},
   "outputs": [],
   "source": [
    "jobs[0].result"
   ]
  },
  {
   "cell_type": "markdown",
   "metadata": {},
   "source": [
    "Мы можем отслеживать ошибки в таких задачах:"
   ]
  },
  {
   "cell_type": "code",
   "execution_count": null,
   "metadata": {},
   "outputs": [],
   "source": [
    "diejob1 = jobs.new(diefunc, 1)\n",
    "diejob2 = jobs.new(diefunc, 2)"
   ]
  },
  {
   "cell_type": "code",
   "execution_count": null,
   "metadata": {},
   "outputs": [],
   "source": [
    "print(\"Status of diejob1: {}\".format(diejob1.status))\n",
    "diejob1.traceback()"
   ]
  },
  {
   "cell_type": "code",
   "execution_count": null,
   "metadata": {},
   "outputs": [],
   "source": [
    "jobs.flush()"
   ]
  },
  {
   "cell_type": "code",
   "execution_count": null,
   "metadata": {},
   "outputs": [],
   "source": [
    "j = jobs.new(sleepfunc, 2)\n",
    "j.join()"
   ]
  },
  {
   "cell_type": "markdown",
   "metadata": {},
   "source": [
    "## Best practices"
   ]
  },
  {
   "cell_type": "markdown",
   "metadata": {},
   "source": [
    "Подробное описание best practices есть в наборе видео [Reproducible Data Analysis in Jupyter](https://www.youtube.com/watch?v=_ZEWDGpM-vM&list=PLYCpMb24GpOC704uO9svUrihl-HY1tTJJ) от автора Python Data Science Handbook.\n",
    "\n",
    "[Пример](SpeedDating.ipynb).\n",
    "\n",
    "Краткое summary:\n",
    "1. После получения важных результатов **необходимо** нажать \"Restart & Run All\", а затем закоммитить файл в git. Также, желательно перед коммитом описать в markdown все проделанные шаги.\n",
    "2. Данные нужно скачивать прямо из jupyter notebook. Это повышает уровень воспроизводимости.\n",
    "3. Все написанные функции нужно доставать из ноутбука и раскладывать по `.py` файлам. Тогда, написанный код можно будет представить в виде python пакета.\n",
    "4. На пакет нужно писать unit-тесты. Для этого можно использовать, например, `pytest`.\n",
    "5. Для того, чтобы делиться результатами, ноутбуки можно конвертировать в html / pdf. Для этого используется утилита [`nbconvert`](https://nbconvert.readthedocs.io/en/latest/). Для точной настройки формата вывода при этом используются [Jinja templates](http://nbconvert.readthedocs.io/en/latest/customizing.html). В частности, для того, чтобы спрятать код можно использовать jupyter extension `Hide input all` и код  \n",
    "    `jupyter nbconvert --execute --template=nbextensions --to=html Pipeline.ipynb`"
   ]
  },
  {
   "cell_type": "code",
   "execution_count": null,
   "metadata": {},
   "outputs": [],
   "source": []
  }
 ],
 "metadata": {
  "hide_input": false,
  "kernelspec": {
   "display_name": "Python 3",
   "language": "python",
   "name": "python3"
  },
  "language_info": {
   "codemirror_mode": {
    "name": "ipython",
    "version": 3
   },
   "file_extension": ".py",
   "mimetype": "text/x-python",
   "name": "python",
   "nbconvert_exporter": "python",
   "pygments_lexer": "ipython3",
   "version": "3.6.3"
  },
  "toc": {
   "nav_menu": {},
   "number_sections": true,
   "sideBar": true,
   "skip_h1_title": false,
   "toc_cell": false,
   "toc_position": {
    "height": "805px",
    "left": "0px",
    "right": "1586px",
    "top": "111px",
    "width": "334px"
   },
   "toc_section_display": "block",
   "toc_window_display": true
  },
  "varInspector": {
   "cols": {
    "lenName": 16,
    "lenType": 16,
    "lenVar": 40
   },
   "kernels_config": {
    "python": {
     "delete_cmd_postfix": "",
     "delete_cmd_prefix": "del ",
     "library": "var_list.py",
     "varRefreshCmd": "print(var_dic_list())"
    },
    "r": {
     "delete_cmd_postfix": ") ",
     "delete_cmd_prefix": "rm(",
     "library": "var_list.r",
     "varRefreshCmd": "cat(var_dic_list()) "
    }
   },
   "types_to_exclude": [
    "module",
    "function",
    "builtin_function_or_method",
    "instance",
    "_Feature"
   ],
   "window_display": false
  }
 },
 "nbformat": 4,
 "nbformat_minor": 2
}